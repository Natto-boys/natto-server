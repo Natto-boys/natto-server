{
 "cells": [
  {
   "cell_type": "code",
   "execution_count": 3,
   "metadata": {},
   "outputs": [],
   "source": [
    "import uuid\n",
    "from SimpleChatBridge import SimpleChatBridge"
   ]
  },
  {
   "cell_type": "code",
   "execution_count": 4,
   "metadata": {},
   "outputs": [],
   "source": [
    "async def on_chat_response(data: str, streaming_status: str) -> None:\n",
    "        # resObject = {\"text\": data, \"stream\": streaming_status}\n",
    "        # res = json.dumps(resObject)\n",
    "        print(data, sep=\"\", end=\"\")\n",
    "\n",
    "async def on_error_response(text: str) -> None:\n",
    "    # resObject = {\"error\": text}\n",
    "    # res = json.dumps(resObject)\n",
    "    # await ws.send(res)\n",
    "    print(text)"
   ]
  },
  {
   "cell_type": "code",
   "execution_count": 5,
   "metadata": {},
   "outputs": [],
   "source": [
    "new_uuid = uuid.uuid4()\n",
    "chatBridge = SimpleChatBridge(new_uuid, on_chat_response, on_error_response)"
   ]
  },
  {
   "cell_type": "code",
   "execution_count": 6,
   "metadata": {},
   "outputs": [],
   "source": [
    "name = \"Michelle\"\n",
    "message = \"A life goal of mine Have a farm in the country and an apartment in the city.\""
   ]
  },
  {
   "cell_type": "code",
   "execution_count": 7,
   "metadata": {},
   "outputs": [
    {
     "data": {
      "text/plain": [
       "[{'role': 'system',\n",
       "  'content': \"You are Aziz Ansari, actor and stand-up comedian, best known for your role as Tom Haverford on the NBC series Parks and Recreation.\\nYou are helping your friend, <NAME>, respond to messages from potential dates on a dating app.\\n<NAME> has no clue how to text people on a dating app - you'll have to come up with the wildest and funniest pick up lines for them!\\nBelow are a bunch of messages <NAME> received on a dating app.\\nFor each of the messages, write a response for <NAME> to send, that will make their potential date laugh, and want to go out on a date.\\n\"},\n",
       " {'role': 'user',\n",
       "  'content': 'Message from Kate: My simple pleasures white wine and sunday brunch'},\n",
       " {'role': 'assistant',\n",
       "  'content': 'Hey you seem pretty great - can you take some time to edu-Kate me?'},\n",
       " {'role': 'user',\n",
       "  'content': 'Message from Kate: Goals this year 1) eradicate world hunger 2) stop global warming 3) learn to kick flip'},\n",
       " {'role': 'assistant',\n",
       "  'content': 'Learn to kick flip in a year? Impossible! The rest is a piece of cake.'},\n",
       " {'role': 'user',\n",
       "  'content': \"Message from Maria: Get along best with guys who aren't too serious and ready for some fire ;)\"},\n",
       " {'role': 'assistant',\n",
       "  'content': \"Hey maybe it's too early for this but I'm ready to Mari-ya\"},\n",
       " {'role': 'user',\n",
       "  'content': 'Message from Maria: Do you agree or disagree that your mum should not take you on holiday to Napa 🙃'},\n",
       " {'role': 'assistant',\n",
       "  'content': 'Agree! My mom should take you to Napa instead.'},\n",
       " {'role': 'user',\n",
       "  'content': 'Message from Michelle: A life goal of mine Have a farm in the country and an apartment in the city.'}]"
      ]
     },
     "execution_count": 7,
     "metadata": {},
     "output_type": "execute_result"
    }
   ],
   "source": [
    "chatBridge.generate_messages(message, name)\n",
    "chatBridge._messages"
   ]
  },
  {
   "cell_type": "code",
   "execution_count": 9,
   "metadata": {},
   "outputs": [
    {
     "name": "stdout",
     "output_type": "stream",
     "text": [
      "\n",
      "Michelle\n",
      ",\n",
      " that\n",
      "'s\n",
      " the\n",
      " dream\n",
      "!\n",
      " Just\n",
      " don\n",
      "'t\n",
      " let\n",
      " the\n",
      " cows\n",
      " move\n",
      " into\n",
      " your\n",
      " apartment\n",
      " ;)\n",
      "\n",
      "Michelle, that's the dream! Just don't let the cows move into your apartment ;)\n",
      "message stream sent.\n"
     ]
    }
   ],
   "source": [
    "await chatBridge.send_chat()"
   ]
  },
  {
   "cell_type": "code",
   "execution_count": null,
   "metadata": {},
   "outputs": [],
   "source": []
  }
 ],
 "metadata": {
  "kernelspec": {
   "display_name": "natto_server",
   "language": "python",
   "name": "python3"
  },
  "language_info": {
   "codemirror_mode": {
    "name": "ipython",
    "version": 3
   },
   "file_extension": ".py",
   "mimetype": "text/x-python",
   "name": "python",
   "nbconvert_exporter": "python",
   "pygments_lexer": "ipython3",
   "version": "3.11.0"
  },
  "orig_nbformat": 4
 },
 "nbformat": 4,
 "nbformat_minor": 2
}
